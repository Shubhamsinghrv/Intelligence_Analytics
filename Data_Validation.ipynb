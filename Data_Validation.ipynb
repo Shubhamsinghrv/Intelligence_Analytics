{
 "cells": [
  {
   "cell_type": "code",
   "execution_count": 2,
   "id": "3541de0a-f2bc-4c7a-82c9-ba9876eced02",
   "metadata": {
    "tags": []
   },
   "outputs": [],
   "source": [
    "from google.cloud import bigquery\n",
    "from google.cloud import storage\n",
    "import io\n",
    "import warnings\n",
    "warnings.filterwarnings(\"ignore\") # Suppress all warnings\n",
    "import pandas as pd\n",
    "import json\n",
    "import hashlib\n",
    "from datetime import datetime\n",
    "import logging\n",
    "from pathlib import Path\n",
    "import io\n",
    "import concurrent.futures\n",
    "from typing import Dict, List, Tuple\n",
    "import numpy as np\n",
    "import matplotlib.pyplot as plt\n",
    "from fpdf import FPDF\n",
    "from pandas.api.types import infer_dtype"
   ]
  },
  {
   "cell_type": "code",
   "execution_count": 3,
   "id": "2551956e-a6d2-4401-947d-da2411e8a167",
   "metadata": {
    "tags": []
   },
   "outputs": [
    {
     "name": "stdout",
     "output_type": "stream",
     "text": [
      "Authentication successful!\n"
     ]
    }
   ],
   "source": [
    "# Initialize BigQuery and Storage clients\n",
    "bigquery_client = bigquery.Client()\n",
    "storage_client = storage.Client()\n",
    "\n",
    "print(\"Authentication successful!\")\n",
    "client = bigquery.Client()\n",
    "storage_client = storage.Client()"
   ]
  },
  {
   "cell_type": "code",
   "execution_count": 5,
   "id": "e5160e99-992e-4863-b76d-9bf4f081305a",
   "metadata": {
    "tags": []
   },
   "outputs": [
    {
     "name": "stdout",
     "output_type": "stream",
     "text": [
      "Summary Results and Detailed Mismatches saved in Excel and CSV formats.\n",
      "  row_index               field source_value target_value error_type\n",
      "0      2044  transaction_amount      5563.46      5559.74   Mismatch\n",
      "1     19511  transaction_amount       6741.7      6744.87   Mismatch\n",
      "2     20933  transaction_amount      6382.32      6384.81   Mismatch\n",
      "3     23116  transaction_amount      1879.46      1888.68   Mismatch\n",
      "4     33252  transaction_amount      5350.29      5349.22   Mismatch\n"
     ]
    }
   ],
   "source": [
    "class DataQualityTester:\n",
    "    def __init__(self, source_bucket: str, source_path: str, target_bucket: str, target_path: str, delimiter: str = '|'):\n",
    "        self.source_bucket = source_bucket\n",
    "        self.source_path = source_path\n",
    "        self.target_bucket = target_bucket\n",
    "        self.target_path = target_path\n",
    "        self.delimiter = delimiter\n",
    "        self.setup_logging()\n",
    "        self.storage_client = storage.Client()\n",
    "        self.accuracy_df = pd.DataFrame(columns=[\"source_records\", \"target_records\", \"completeness_percentage\", \"mismatches\", \"test_timestamp\"])\n",
    "        self.error_details_df = pd.DataFrame(columns=[\"row_index\", \"field\", \"source_value\", \"target_value\", \"error_type\"])\n",
    "\n",
    "    def setup_logging(self):\n",
    "        logging.basicConfig(\n",
    "            level=logging.INFO,\n",
    "            format='%(asctime)s - %(levelname)s - %(message)s',\n",
    "            filename=f'data_quality_test_{datetime.now().strftime(\"%Y%m%d_%H%M%S\")}.log'\n",
    "        )\n",
    "\n",
    "    def read_gcs_file(self, bucket_name: str, file_path: str) -> io.StringIO:\n",
    "        bucket = self.storage_client.bucket(bucket_name)\n",
    "        blob = bucket.blob(file_path)\n",
    "        content = blob.download_as_text()\n",
    "        return io.StringIO(content)\n",
    "\n",
    "    def read_source_file(self, chunk_size: int = 100000) -> pd.DataFrame:\n",
    "        gcs_file = self.read_gcs_file(self.source_bucket, self.source_path)\n",
    "        return pd.read_csv(gcs_file, delimiter=self.delimiter, chunksize=chunk_size)\n",
    "\n",
    "    def read_target_json(self, chunk_size: int = 100000) -> Dict:\n",
    "        gcs_file = self.read_gcs_file(self.target_bucket, self.target_path)\n",
    "        records = []\n",
    "        for line in gcs_file:\n",
    "            records.append(json.loads(line))\n",
    "            if len(records) >= chunk_size:\n",
    "                yield records\n",
    "                records = []\n",
    "        if records:\n",
    "            yield records\n",
    "\n",
    "    def compare_batch(self, source_chunk: pd.DataFrame, target_chunk: List[Dict]) -> Tuple[int, int, List[str]]:\n",
    "        mismatches = []\n",
    "        target_df = pd.DataFrame(target_chunk)\n",
    "        target_df.columns = [col.lower() for col in target_df.columns]\n",
    "        source_chunk.columns = [col.lower() for col in source_chunk.columns]\n",
    "        source_count = len(source_chunk)\n",
    "        target_count = len(target_df)\n",
    "        common_columns = list(set(source_chunk.columns) & set(target_df.columns))\n",
    "        for col in common_columns:\n",
    "            for idx, (src_val, tgt_val) in enumerate(zip(source_chunk[col].astype(str), target_df[col].astype(str))):\n",
    "                if src_val != tgt_val:\n",
    "                    mismatches.append(f\"Column {col} has mismatched values.\")\n",
    "                    self.error_details_df = pd.concat([\n",
    "                        self.error_details_df, \n",
    "                        pd.DataFrame([{\"row_index\": idx, \"field\": col, \"source_value\": src_val, \"target_value\": tgt_val, \"error_type\": \"Mismatch\" }])\n",
    "                    ], ignore_index=True)\n",
    "        return source_count, target_count, mismatches\n",
    "\n",
    "    def run_quality_test(self) -> Dict:\n",
    "        total_source_records, total_target_records, all_mismatches = 0, 0, []\n",
    "        logging.info(f\"Starting data quality test for {self.source_path} -> {self.target_path}\")\n",
    "        source_chunks, target_chunks = self.read_source_file(), self.read_target_json()\n",
    "        with concurrent.futures.ThreadPoolExecutor(max_workers=4) as executor:\n",
    "            futures = [executor.submit(self.compare_batch, src, tgt) for src, tgt in zip(source_chunks, target_chunks)]\n",
    "            for future in concurrent.futures.as_completed(futures):\n",
    "                src_count, tgt_count, mismatches = future.result()\n",
    "                total_source_records += src_count\n",
    "                total_target_records += tgt_count\n",
    "                all_mismatches.extend(mismatches)\n",
    "        completeness_percentage = (total_target_records / total_source_records * 100) if total_source_records > 0 else 0\n",
    "        results = {\"source_records\": total_source_records, \"target_records\": total_target_records, \"completeness_percentage\": completeness_percentage, \"mismatches\": all_mismatches, \"test_timestamp\": datetime.now().isoformat()}\n",
    "        logging.info(f\"Test completed. Results: {json.dumps(results, indent=2)}\")\n",
    "        self.accuracy_df = pd.concat([self.accuracy_df, pd.DataFrame([results])], ignore_index=True)\n",
    "        self.save_reports_to_csv()\n",
    "        return results\n",
    "    \n",
    "    def save_reports_to_csv(self):\n",
    "        # Save detailed mismatches to a CSV file\n",
    "        if not self.error_details_df.empty:\n",
    "            error_csv_filename = \"detailed_mismatches.csv\"\n",
    "            self.error_details_df.to_csv(error_csv_filename, index=False)\n",
    "            logging.info(f\"Detailed mismatches saved to: {error_csv_filename}\")\n",
    "        else:\n",
    "            logging.info(\"No mismatches found; skipping detailed mismatches CSV creation.\")\n",
    "\n",
    "        # Save summary results to a CSV file\n",
    "        summary_csv_filename = \"data_quality_summary.csv\"\n",
    "        self.accuracy_df.to_csv(summary_csv_filename, index=False)\n",
    "        logging.info(f\"Summary results saved to: {summary_csv_filename}\")\n",
    "\n",
    "\n",
    "if __name__ == \"__main__\":\n",
    "    tester = DataQualityTester(\n",
    "        source_bucket=\"samplebucketvrs\",\n",
    "        source_path=\"Data_Validation/large_source_data.txt\",\n",
    "        target_bucket=\"samplebucketvrs\",\n",
    "        target_path=\"Data_Validation/large_target_data.json\",\n",
    "        delimiter=\"|\"\n",
    "    )\n",
    "    results = tester.run_quality_test()\n",
    "    result_df = pd.DataFrame([results])\n",
    "    result_df.dropna(axis=1, how='all', inplace=True)\n",
    "    accuracy_df = pd.concat(\n",
    "        [tester.accuracy_df.dropna(axis=1, how='all'), pd.DataFrame([results]).dropna(axis=1, how='all')], \n",
    "        ignore_index=True\n",
    "    )\n",
    "    #accuracy_df.head()\n",
    "    #results = tester.run_quality_test()\n",
    "    print(\"Summary Results and Detailed Mismatches saved in Excel and CSV formats.\")\n",
    "\n",
    "    print(tester.error_details_df.head())\n",
    "#print(result_df)"
   ]
  },
  {
   "cell_type": "code",
   "execution_count": 6,
   "id": "b8db9c93-e7a7-42d7-8e99-e6311fe3e0fe",
   "metadata": {
    "tags": []
   },
   "outputs": [
    {
     "data": {
      "text/plain": [
       "<Axes: title={'center': 'Mismatch Frequencies by Column'}, xlabel='field'>"
      ]
     },
     "execution_count": 6,
     "metadata": {},
     "output_type": "execute_result"
    },
    {
     "data": {
      "image/png": "[encoded data removed]",
      "text/plain": [
       "<Figure size 640x480 with 1 Axes>"
      ]
     },
     "metadata": {},
     "output_type": "display_data"
    }
   ],
   "source": [
    "mismatch_summary = tester.error_details_df['field'].value_counts()\n",
    "mismatch_summary.plot(kind='bar', title='Mismatch Frequencies by Column')"
   ]
  },
  {
   "cell_type": "code",
   "execution_count": 7,
   "id": "a9950828-e4b1-429f-aaf7-8d31e016fd3a",
   "metadata": {
    "tags": []
   },
   "outputs": [
    {
     "name": "stdout",
     "output_type": "stream",
     "text": [
      "               Column  Mismatch_Count  Mismatch_Percentage\n",
      "0              status              47               0.0094\n",
      "1  transaction_amount              38               0.0076\n",
      "2      loyalty_points              36               0.0072\n",
      "3            quantity              34               0.0068\n"
     ]
    },
    {
     "data": {
      "text/plain": [
       "<Axes: title={'center': 'Corrected Mismatch Percentage by Column'}, xlabel='Column'>"
      ]
     },
     "execution_count": 7,
     "metadata": {},
     "output_type": "execute_result"
    },
    {
     "data": {
      "image/png": "[encoded data removed]",
      "text/plain": [
       "<Figure size 640x480 with 1 Axes>"
      ]
     },
     "metadata": {},
     "output_type": "display_data"
    }
   ],
   "source": [
    "# Ensure total_source_rows is correct\n",
    "total_source_rows = tester.accuracy_df['source_records'].sum()\n",
    "\n",
    "# Count mismatches per column\n",
    "mismatch_counts = tester.error_details_df['field'].value_counts()\n",
    "\n",
    "# Calculate mismatch percentage per column\n",
    "mismatch_percentages = (mismatch_counts / total_source_rows) * 100\n",
    "\n",
    "# Create a summary DataFrame\n",
    "mismatch_summary = pd.DataFrame({\n",
    "    \"Column\": mismatch_counts.index,\n",
    "    \"Mismatch_Count\": mismatch_counts.values,\n",
    "    \"Mismatch_Percentage\": mismatch_percentages.values\n",
    "})\n",
    "\n",
    "# Display the corrected summary\n",
    "print(mismatch_summary)\n",
    "\n",
    "# Optional: Plot mismatch percentages\n",
    "mismatch_summary.plot(\n",
    "    x='Column', y='Mismatch_Percentage', kind='bar', title='Corrected Mismatch Percentage by Column', legend=False\n",
    ")\n"
   ]
  },
  {
   "cell_type": "code",
   "execution_count": null,
   "id": "f4cae2a0-17bb-47b0-92ca-78c3bb5b23be",
   "metadata": {},
   "outputs": [],
   "source": []
  }
 ],
 "metadata": {
  "environment": {
   "kernel": "conda-base-py",
   "name": "workbench-notebooks.m127",
   "type": "gcloud",
   "uri": "us-docker.pkg.dev/deeplearning-platform-release/gcr.io/workbench-notebooks:m127"
  },
  "kernelspec": {
   "display_name": "Python 3 (ipykernel) (Local)",
   "language": "python",
   "name": "conda-base-py"
  },
  "language_info": {
   "codemirror_mode": {
    "name": "ipython",
    "version": 3
   },
   "file_extension": ".py",
   "mimetype": "text/x-python",
   "name": "python",
   "nbconvert_exporter": "python",
   "pygments_lexer": "ipython3",
   "version": "3.10.16"
  }
 },
 "nbformat": 4,
 "nbformat_minor": 5
}
