{
 "cells": [
  {
   "cell_type": "code",
   "execution_count": 1,
   "id": "f9d3a394-12c4-4440-8cce-1d3da4497088",
   "metadata": {},
   "outputs": [
    {
     "name": "stdout",
     "output_type": "stream",
     "text": [
      "<Client: 'tcp://127.0.0.1:36967' processes=8 threads=8, memory=14.90 GiB>\n"
     ]
    }
   ],
   "source": [
    "import time\n",
    "from dask.distributed import Client\n",
    "\n",
    "# Create a Dask client with 8 workers and 2 threads per worker\n",
    "client = Client(n_workers=8, threads_per_worker=1, memory_limit='2GB')\n",
    "\n",
    "# Print out the details of the Dask cluster\n",
    "print(client)"
   ]
  },
  {
   "cell_type": "code",
   "execution_count": 2,
   "id": "bb535539-81f1-4843-930b-003451c49b60",
   "metadata": {
    "tags": []
   },
   "outputs": [],
   "source": [
    "from google.cloud import storage\n",
    "import pandas as pd\n",
    "from sklearn.preprocessing import LabelEncoder, OneHotEncoder\n",
    "import seaborn as sns\n",
    "import matplotlib.pyplot as plt\n",
    "import numpy as np\n",
    "from sklearn.inspection import permutation_importance\n",
    "from sklearn.model_selection import train_test_split, cross_val_score\n",
    "from sklearn.preprocessing import StandardScaler,MinMaxScaler\n",
    "from sklearn.linear_model import LinearRegression, Ridge, Lasso\n",
    "from sklearn.tree import DecisionTreeRegressor\n",
    "from sklearn.ensemble import RandomForestRegressor, GradientBoostingRegressor\n",
    "from sklearn.svm import SVR\n",
    "from sklearn.neighbors import KNeighborsRegressor\n",
    "from sklearn.metrics import mean_absolute_error, mean_squared_error, r2_score\n",
    "from sklearn.tree import ExtraTreeRegressor\n",
    "from sklearn.ensemble import ExtraTreesRegressor\n",
    "from sklearn.impute import SimpleImputer\n",
    "from sklearn.base import BaseEstimator\n",
    "from scipy.stats import chi2\n",
    "from sklearn.tree import DecisionTreeRegressor, DecisionTreeClassifier, ExtraTreeRegressor, ExtraTreeClassifier\n",
    "from sklearn.ensemble import RandomForestRegressor, RandomForestClassifier, ExtraTreesRegressor, ExtraTreesClassifier, AdaBoostRegressor\n",
    "from sklearn.linear_model import LogisticRegression, RidgeClassifier\n",
    "from sklearn.neighbors import KNeighborsClassifier, RadiusNeighborsClassifier\n",
    "\n",
    "from scipy.stats.mstats import winsorize\n",
    "from sklearn.decomposition import PCA\n",
    "from sklearn.ensemble import ExtraTreesRegressor, ExtraTreesClassifier\n",
    "from sklearn.preprocessing import StandardScaler\n",
    "from sklearn.model_selection import train_test_split\n",
    "\n",
    "\n",
    "import warnings\n",
    "warnings.filterwarnings(\"ignore\") # Suppress all warnings\n",
    "pd.options.display.float_format = '{:.2f}'.format"
   ]
  },
  {
   "cell_type": "code",
   "execution_count": 3,
   "id": "0b0c391c-9e7c-4469-83df-09c6d4304f66",
   "metadata": {
    "tags": []
   },
   "outputs": [
    {
     "name": "stdout",
     "output_type": "stream",
     "text": [
      "Authentication successful!\n"
     ]
    }
   ],
   "source": [
    "# Initialize BigQuery and Storage clients\n",
    "storage_client = storage.Client()\n",
    "\n",
    "print(\"Authentication successful!\")\n",
    "storage_client = storage.Client()"
   ]
  },
  {
   "cell_type": "code",
   "execution_count": 4,
   "id": "cfcf3b62-250e-4f49-a1a9-1f316629bff5",
   "metadata": {
    "tags": []
   },
   "outputs": [],
   "source": [
    "import dask.dataframe as dd\n",
    "\n",
    "# Load CSV from GCS with explicit data types\n",
    "df = dd.read_csv(\n",
    "    \"gs://samplebucketvrs/Intelligence Analytics/og4/2019.csv\",\n",
    "    blocksize=\"100MB\",  \n",
    "    assume_missing=True,  # Ensures int columns with missing values convert to float\n",
    "    low_memory=False  # Reduces memory overhead\n",
    ")"
   ]
  },
  {
   "cell_type": "code",
   "execution_count": 5,
   "id": "42976e4c-10b8-4e69-aaad-90bd4f828ee2",
   "metadata": {
    "tags": []
   },
   "outputs": [],
   "source": [
    "# ✅ (Optional) Convert to Parquet for better performance\n",
    "df.to_parquet(\"gs://samplebucketvrs/Intelligence Analytics/og4/2019.parquet\", write_index=False)\n",
    "df = dd.read_parquet(\"gs://samplebucketvrs/Intelligence Analytics/og4/2019.parquet\")  # Much faster!"
   ]
  },
  {
   "cell_type": "code",
   "execution_count": 6,
   "id": "856ea773-e341-47dc-b988-7043180a4735",
   "metadata": {
    "tags": []
   },
   "outputs": [
    {
     "data": {
      "text/html": [
       "<div>\n",
       "<style scoped>\n",
       "    .dataframe tbody tr th:only-of-type {\n",
       "        vertical-align: middle;\n",
       "    }\n",
       "\n",
       "    .dataframe tbody tr th {\n",
       "        vertical-align: top;\n",
       "    }\n",
       "\n",
       "    .dataframe thead th {\n",
       "        text-align: right;\n",
       "    }\n",
       "</style>\n",
       "<table border=\"1\" class=\"dataframe\">\n",
       "  <thead>\n",
       "    <tr style=\"text-align: right;\">\n",
       "      <th></th>\n",
       "      <th>FL_DATE</th>\n",
       "      <th>OP_UNIQUE_CARRIER</th>\n",
       "      <th>OP_CARRIER_FL_NUM</th>\n",
       "      <th>ORIGIN</th>\n",
       "      <th>DEST</th>\n",
       "      <th>DEP_TIME</th>\n",
       "      <th>DEP_DELAY</th>\n",
       "      <th>TAXI_OUT</th>\n",
       "      <th>WHEELS_OFF</th>\n",
       "      <th>WHEELS_ON</th>\n",
       "      <th>...</th>\n",
       "      <th>ARR_TIME</th>\n",
       "      <th>ARR_DELAY</th>\n",
       "      <th>AIR_TIME</th>\n",
       "      <th>DISTANCE</th>\n",
       "      <th>CARRIER_DELAY</th>\n",
       "      <th>WEATHER_DELAY</th>\n",
       "      <th>NAS_DELAY</th>\n",
       "      <th>SECURITY_DELAY</th>\n",
       "      <th>LATE_AIRCRAFT_DELAY</th>\n",
       "      <th>Unnamed: 20</th>\n",
       "    </tr>\n",
       "  </thead>\n",
       "  <tbody>\n",
       "    <tr>\n",
       "      <th>0</th>\n",
       "      <td>2019-01-01</td>\n",
       "      <td>9E</td>\n",
       "      <td>3280.00</td>\n",
       "      <td>GNV</td>\n",
       "      <td>ATL</td>\n",
       "      <td>601.00</td>\n",
       "      <td>1.00</td>\n",
       "      <td>22.00</td>\n",
       "      <td>623.00</td>\n",
       "      <td>714.00</td>\n",
       "      <td>...</td>\n",
       "      <td>722.00</td>\n",
       "      <td>-1.00</td>\n",
       "      <td>51.00</td>\n",
       "      <td>300.00</td>\n",
       "      <td>NaN</td>\n",
       "      <td>NaN</td>\n",
       "      <td>NaN</td>\n",
       "      <td>NaN</td>\n",
       "      <td>NaN</td>\n",
       "      <td>NaN</td>\n",
       "    </tr>\n",
       "    <tr>\n",
       "      <th>1</th>\n",
       "      <td>2019-01-01</td>\n",
       "      <td>9E</td>\n",
       "      <td>3281.00</td>\n",
       "      <td>MSP</td>\n",
       "      <td>CVG</td>\n",
       "      <td>1359.00</td>\n",
       "      <td>-5.00</td>\n",
       "      <td>15.00</td>\n",
       "      <td>1414.00</td>\n",
       "      <td>1629.00</td>\n",
       "      <td>...</td>\n",
       "      <td>1633.00</td>\n",
       "      <td>-36.00</td>\n",
       "      <td>75.00</td>\n",
       "      <td>596.00</td>\n",
       "      <td>NaN</td>\n",
       "      <td>NaN</td>\n",
       "      <td>NaN</td>\n",
       "      <td>NaN</td>\n",
       "      <td>NaN</td>\n",
       "      <td>NaN</td>\n",
       "    </tr>\n",
       "  </tbody>\n",
       "</table>\n",
       "<p>2 rows × 21 columns</p>\n",
       "</div>"
      ],
      "text/plain": [
       "      FL_DATE OP_UNIQUE_CARRIER  OP_CARRIER_FL_NUM ORIGIN DEST  DEP_TIME  \\\n",
       "0  2019-01-01                9E            3280.00    GNV  ATL    601.00   \n",
       "1  2019-01-01                9E            3281.00    MSP  CVG   1359.00   \n",
       "\n",
       "   DEP_DELAY  TAXI_OUT  WHEELS_OFF  WHEELS_ON  ...  ARR_TIME  ARR_DELAY  \\\n",
       "0       1.00     22.00      623.00     714.00  ...    722.00      -1.00   \n",
       "1      -5.00     15.00     1414.00    1629.00  ...   1633.00     -36.00   \n",
       "\n",
       "   AIR_TIME  DISTANCE  CARRIER_DELAY  WEATHER_DELAY  NAS_DELAY  \\\n",
       "0     51.00    300.00            NaN            NaN        NaN   \n",
       "1     75.00    596.00            NaN            NaN        NaN   \n",
       "\n",
       "   SECURITY_DELAY  LATE_AIRCRAFT_DELAY  Unnamed: 20  \n",
       "0             NaN                  NaN          NaN  \n",
       "1             NaN                  NaN          NaN  \n",
       "\n",
       "[2 rows x 21 columns]"
      ]
     },
     "execution_count": 6,
     "metadata": {},
     "output_type": "execute_result"
    }
   ],
   "source": [
    "df.head(2)"
   ]
  },
  {
   "cell_type": "code",
   "execution_count": 7,
   "id": "f051be76-d9a8-406f-80b8-d4a3e61895ac",
   "metadata": {
    "tags": []
   },
   "outputs": [],
   "source": [
    "#df = df.drop(columns=[\"Unnamed: 20\"])"
   ]
  },
  {
   "cell_type": "code",
   "execution_count": 8,
   "id": "1538f234-2b2f-4c4c-90af-3137df1329cf",
   "metadata": {
    "tags": []
   },
   "outputs": [],
   "source": [
    "# Identify columns with all NaN values\n",
    "columns_to_drop = [col for col in df.columns if df[col].isna().all().compute()]\n",
    "\n",
    "# Drop the columns\n",
    "df = df.drop(columns=columns_to_drop)"
   ]
  },
  {
   "cell_type": "code",
   "execution_count": 9,
   "id": "6215f108-5e19-4f4d-8d65-ae28173073a1",
   "metadata": {
    "tags": []
   },
   "outputs": [],
   "source": [
    "df[\"FL_DATE\"] = df[\"FL_DATE\"].astype(\"datetime64[ns]\")"
   ]
  },
  {
   "cell_type": "code",
   "execution_count": 10,
   "id": "f671b42c-4e6a-4977-9afb-6e85b383933e",
   "metadata": {
    "tags": []
   },
   "outputs": [
    {
     "name": "stdout",
     "output_type": "stream",
     "text": [
      "Imputed median for OP_CARRIER_FL_NUM: 2231.0\n",
      "Imputed median for DEP_TIME: 1329.0\n",
      "Imputed median for DEP_DELAY: -2.0\n",
      "Imputed median for TAXI_OUT: 15.0\n",
      "Imputed median for WHEELS_OFF: 1342.0\n",
      "Imputed median for WHEELS_ON: 1503.0\n",
      "Imputed median for TAXI_IN: 6.0\n",
      "Imputed median for ARR_TIME: 1507.0\n",
      "Imputed median for ARR_DELAY: -6.0\n",
      "Imputed median for AIR_TIME: 94.0\n",
      "Imputed median for DISTANCE: 641.0\n",
      "Imputed median for CARRIER_DELAY: 0.0\n",
      "Imputed median for WEATHER_DELAY: 0.0\n",
      "Imputed median for NAS_DELAY: 3.0\n",
      "Imputed median for SECURITY_DELAY: 0.0\n",
      "Imputed median for LATE_AIRCRAFT_DELAY: 3.0\n"
     ]
    }
   ],
   "source": [
    "# Identify numerical and categorical columns\n",
    "numerical_cols = df.select_dtypes(include=[\"number\"]).columns\n",
    "# ✅ Impute missing values for numerical columns using median\n",
    "for col in numerical_cols:\n",
    "    median_value = df[col].median_approximate().compute()  # Use approximate median for efficiency\n",
    "    df[col] = df[col].fillna(median_value)\n",
    "    print(f\"Imputed median for {col}: {median_value}\")"
   ]
  },
  {
   "cell_type": "code",
   "execution_count": 11,
   "id": "9fbcd794-6248-49be-8395-e3e40fc75433",
   "metadata": {
    "tags": []
   },
   "outputs": [],
   "source": [
    "from scipy.stats import normaltest\n",
    "import dask.dataframe as dd\n",
    "import numpy as np\n",
    "from scipy.stats.mstats import winsorize"
   ]
  },
  {
   "cell_type": "code",
   "execution_count": 12,
   "id": "a8e756ff-0b8b-469b-badd-991fc4d15d8b",
   "metadata": {
    "tags": []
   },
   "outputs": [],
   "source": [
    "def detect_outliers_dask(df, method=None, threshold=1.5):\n",
    "    \"\"\"\n",
    "    Detects outliers using IQR or Z-score, with an option to auto-select the best method.\n",
    "    \"\"\"\n",
    "    outlier_percentages = {}\n",
    "    numeric_cols = df.select_dtypes(include=[np.number]).columns\n",
    "\n",
    "    if method is None:\n",
    "        # Take a small sample (10%) efficiently using random_split\n",
    "        sample_frac = 0.1\n",
    "        df_sample, _ = df.random_split([sample_frac, 1 - sample_frac])\n",
    "        df_sample = df_sample.compute()  # Convert sample to Pandas DataFrame\n",
    "\n",
    "        normality_pvals = df_sample[numeric_cols].apply(lambda x: normaltest(x.dropna())[1])\n",
    "\n",
    "        if (normality_pvals > 0.05).all():  \n",
    "            method = \"zscore\"  # If p > 0.05, assume normal distribution\n",
    "        else:\n",
    "            method = \"iqr\"  # Otherwise, assume non-normal distribution\n",
    "\n",
    "        print(f\"Auto-selected method: {method}\")\n",
    "\n",
    "    # Now, use IQR or Z-score as before\n",
    "    if method == \"iqr\":\n",
    "        for col in numeric_cols:\n",
    "            quantiles = df[col].quantile([0.25, 0.75]).compute()\n",
    "            Q1, Q3 = quantiles.loc[0.25], quantiles.loc[0.75]\n",
    "            IQR = Q3 - Q1\n",
    "            lower_bound = Q1 - threshold * IQR\n",
    "            upper_bound = Q3 + threshold * IQR\n",
    "\n",
    "            mask = (df[col] < lower_bound) | (df[col] > upper_bound)\n",
    "            outlier_count = mask.sum().compute()\n",
    "            total_rows = len(df)\n",
    "            outlier_percentages[col] = (outlier_count / total_rows) * 100\n",
    "\n",
    "    elif method == \"zscore\":\n",
    "        for col in numeric_cols:\n",
    "            mean, std = df[col].mean().compute(), df[col].std().compute()\n",
    "            mask = abs((df[col] - mean) / std) > threshold\n",
    "            outlier_count = mask.sum().compute()\n",
    "            total_rows = len(df)\n",
    "            outlier_percentages[col] = (outlier_count / total_rows) * 100\n",
    "\n",
    "    else:\n",
    "        raise ValueError(\"Method must be 'iqr' or 'zscore'.\")\n",
    "\n",
    "    return outlier_percentages\n"
   ]
  },
  {
   "cell_type": "code",
   "execution_count": 13,
   "id": "bf40303a-7892-452f-8711-cd9726307a6f",
   "metadata": {
    "tags": []
   },
   "outputs": [],
   "source": [
    "def clean_or_winsorize_dask(df, outlier_percentages, threshold=5):\n",
    "    \"\"\"\n",
    "    Cleans or applies Winsorization based on outlier percentage.\n",
    "    \n",
    "    Parameters:\n",
    "    - df: Dask DataFrame\n",
    "    - outlier_percentages: Dictionary of outlier percentages per column.\n",
    "    - threshold: Percentage threshold to decide between cleaning or Winsorization.\n",
    "    \n",
    "    Returns:\n",
    "    - Dask DataFrame with outliers cleaned or Winsorized.\n",
    "    \"\"\"\n",
    "    numeric_cols = list(outlier_percentages.keys())\n",
    "\n",
    "    # Compute IQR bounds once for all columns\n",
    "    stats = df[numeric_cols].quantile([0.25, 0.75]).compute()\n",
    "    Q1, Q3 = stats.loc[0.25], stats.loc[0.75]\n",
    "    IQR = Q3 - Q1\n",
    "    lower_bound, upper_bound = Q1 - 1.5 * IQR, Q3 + 1.5 * IQR\n",
    "\n",
    "    df_out = df.copy()  # Create a copy to avoid modifying the original\n",
    "\n",
    "    for col in numeric_cols:\n",
    "        if outlier_percentages[col] <= threshold:\n",
    "            print(f\"Removing {outlier_percentages[col]:.2f}% outliers from column '{col}'.\")\n",
    "            df_out = df_out.assign(**{col: df[col].where((df[col] >= lower_bound[col]) & (df[col] <= upper_bound[col]))})\n",
    "        else:\n",
    "            print(f\"Applying Winsorization to column '{col}' with {outlier_percentages[col]:.2f}% outliers.\")\n",
    "            df_out = df_out.assign(**{col: df[col].map_partitions(lambda x: winsorize(x, limits=(0.05, 0.05)), meta=(col, \"float64\"))})\n",
    "\n",
    "    return df_out\n"
   ]
  },
  {
   "cell_type": "code",
   "execution_count": 14,
   "id": "00621b3e-4852-4ca6-9a75-57597c8608a2",
   "metadata": {
    "tags": []
   },
   "outputs": [
    {
     "name": "stdout",
     "output_type": "stream",
     "text": [
      "Auto-selected method: iqr\n"
     ]
    }
   ],
   "source": [
    "outlier_percentages = detect_outliers_dask(df, method=None)"
   ]
  },
  {
   "cell_type": "code",
   "execution_count": 15,
   "id": "c05052b8-9e5a-4d6b-8cdb-cce96343ca54",
   "metadata": {
    "tags": []
   },
   "outputs": [
    {
     "name": "stdout",
     "output_type": "stream",
     "text": [
      "Removing 0.00% outliers from column 'OP_CARRIER_FL_NUM'.\n",
      "Removing 0.00% outliers from column 'DEP_TIME'.\n",
      "Applying Winsorization to column 'DEP_DELAY' with 13.17% outliers.\n",
      "Applying Winsorization to column 'TAXI_OUT' with 5.65% outliers.\n",
      "Removing 0.00% outliers from column 'WHEELS_OFF'.\n",
      "Removing 0.00% outliers from column 'WHEELS_ON'.\n",
      "Applying Winsorization to column 'TAXI_IN' with 6.28% outliers.\n",
      "Removing 0.00% outliers from column 'ARR_TIME'.\n",
      "Applying Winsorization to column 'ARR_DELAY' with 9.16% outliers.\n",
      "Applying Winsorization to column 'AIR_TIME' with 5.49% outliers.\n",
      "Applying Winsorization to column 'DISTANCE' with 5.81% outliers.\n",
      "Applying Winsorization to column 'CARRIER_DELAY' with 8.92% outliers.\n",
      "Removing 1.05% outliers from column 'WEATHER_DELAY'.\n",
      "Applying Winsorization to column 'NAS_DELAY' with 18.06% outliers.\n",
      "Removing 0.06% outliers from column 'SECURITY_DELAY'.\n",
      "Applying Winsorization to column 'LATE_AIRCRAFT_DELAY' with 18.25% outliers.\n"
     ]
    }
   ],
   "source": [
    "df_cleaned = clean_or_winsorize_dask(df, outlier_percentages, threshold=5)"
   ]
  },
  {
   "cell_type": "code",
   "execution_count": 16,
   "id": "3c421fdb-76ff-4941-8f71-ba156c16d817",
   "metadata": {
    "tags": []
   },
   "outputs": [
    {
     "name": "stdout",
     "output_type": "stream",
     "text": [
      "Applied Label Encoding to OP_UNIQUE_CARRIER\n",
      "Applied Label Encoding to ORIGIN\n",
      "Applied Label Encoding to DEST\n",
      "FL_DATE                datetime64[ns]\n",
      "OP_UNIQUE_CARRIER               int64\n",
      "OP_CARRIER_FL_NUM             float64\n",
      "ORIGIN                          int64\n",
      "DEST                            int64\n",
      "DEP_TIME                      float64\n",
      "DEP_DELAY                     float64\n",
      "TAXI_OUT                      float64\n",
      "WHEELS_OFF                    float64\n",
      "WHEELS_ON                     float64\n",
      "TAXI_IN                       float64\n",
      "ARR_TIME                      float64\n",
      "ARR_DELAY                     float64\n",
      "AIR_TIME                      float64\n",
      "DISTANCE                      float64\n",
      "CARRIER_DELAY                 float64\n",
      "WEATHER_DELAY                 float64\n",
      "NAS_DELAY                     float64\n",
      "SECURITY_DELAY                float64\n",
      "LATE_AIRCRAFT_DELAY           float64\n",
      "dtype: object\n"
     ]
    }
   ],
   "source": [
    "import dask.dataframe as dd\n",
    "import pandas as pd\n",
    "import numpy as np\n",
    "from dask_ml.preprocessing import LabelEncoder\n",
    "from dask import delayed\n",
    "from sklearn.preprocessing import OneHotEncoder\n",
    "\n",
    "categorical_cols = df.select_dtypes(include=[\"object\", \"category\",\"string\"]).columns\n",
    "# ✅ Encode categorical variables\n",
    "for col in categorical_cols:\n",
    "    unique_count = df[col].nunique().compute()  # Get number of unique values\n",
    "    \n",
    "    if unique_count <= 10:\n",
    "        # **One-Hot Encoding** for low-cardinality categorical columns\n",
    "        encoder = OneHotEncoder(sparse_output=False, handle_unknown='ignore')\n",
    "        \n",
    "        # Apply One-Hot Encoding using map_partitions\n",
    "        df = df.map_partitions(\n",
    "            lambda d: d.join(\n",
    "                pd.DataFrame(\n",
    "                    encoder.fit_transform(d[[col]]),\n",
    "                    index=d.index,\n",
    "                    columns=[f\"{col}_{i}\" for i in range(unique_count)]\n",
    "                )\n",
    "            ), \n",
    "            meta=df\n",
    "        )\n",
    "        \n",
    "        df = df.drop(columns=[col])  # Drop original column after encoding\n",
    "        print(f\"Applied One-Hot Encoding to {col}\")\n",
    "\n",
    "    else:\n",
    "        # **Label Encoding** for high-cardinality categorical columns\n",
    "        encoder = LabelEncoder()\n",
    "        df[col] = df[col].map_partitions(lambda x: encoder.fit_transform(x), meta=(col, 'int64'))\n",
    "        print(f\"Applied Label Encoding to {col}\")\n",
    "\n",
    "# ✅ Check the transformed DataFrame\n",
    "print(df.dtypes)"
   ]
  },
  {
   "cell_type": "code",
   "execution_count": 17,
   "id": "21e9692b-cd1b-43b4-9da1-aa84193f071b",
   "metadata": {
    "tags": []
   },
   "outputs": [
    {
     "name": "stdout",
     "output_type": "stream",
     "text": [
      "✅ Data Sampled\n",
      "✅ Data Scaled\n",
      "✅ Data Converted to NumPy Successfully!\n",
      "✅ Regression Model Training Complete!\n"
     ]
    }
   ],
   "source": [
    "import dask.dataframe as dd\n",
    "import numpy as np\n",
    "import dask.array as da\n",
    "from dask_ml.preprocessing import StandardScaler\n",
    "from dask_ml.model_selection import train_test_split\n",
    "from sklearn.ensemble import ExtraTreesRegressor, ExtraTreesClassifier\n",
    "from joblib import parallel_backend  # Enables Dask parallelism in Scikit-learn\n",
    "\n",
    "# ✅ Sample 10% of the data\n",
    "sampled_df = df.sample(frac=0.1, random_state=42)\n",
    "print(\"✅ Data Sampled\")\n",
    "\n",
    "# ✅ Separate features (X) and target (y)\n",
    "target_col = \"DEP_DELAY\"\n",
    "y = sampled_df[target_col]\n",
    "X = sampled_df.drop(columns=[target_col, \"FL_DATE\"])\n",
    "\n",
    "# ✅ Standardize numerical features\n",
    "scaler = StandardScaler()\n",
    "X_scaled = scaler.fit_transform(X)\n",
    "print(\"✅ Data Scaled\")\n",
    "\n",
    "# ✅ Train/Test Split (remains Dask arrays)\n",
    "X_train, X_test, y_train, y_test = train_test_split(X_scaled, y, test_size=0.2, random_state=42)\n",
    "\n",
    "# ✅ Compute in **small batches** to avoid memory overload\n",
    "batch_size = 150000  # Adjust based on available memory\n",
    "\n",
    "def batch_compute(dask_array, batch_size):\n",
    "    \"\"\"Convert Dask array to NumPy in small chunks to avoid memory overflow.\"\"\"\n",
    "    np_array = dask_array.to_dask_array(lengths=True)  # Convert to Dask Array\n",
    "    n_rows = np_array.shape[0]\n",
    "\n",
    "    results = []\n",
    "    for i in range(0, n_rows, batch_size):\n",
    "        results.append(np_array[i : i + batch_size].compute())  # Compute in chunks\n",
    "\n",
    "    return np.vstack(results) if results[0].ndim > 1 else np.hstack(results)\n",
    "\n",
    "# ✅ Convert X_train, X_test, y_train, y_test in small chunks\n",
    "X_train_np = batch_compute(X_train, batch_size)\n",
    "X_test_np = batch_compute(X_test, batch_size)\n",
    "y_train_np = batch_compute(y_train, batch_size)\n",
    "y_test_np = batch_compute(y_test, batch_size)\n",
    "\n",
    "print(\"✅ Data Converted to NumPy Successfully!\")\n",
    "\n",
    "# ✅ Determine task type & use Scikit-learn models with Dask backend\n",
    "if np.unique(y_train_np).size <= 10:\n",
    "    model = ExtraTreesClassifier(n_jobs=-1, random_state=42, n_estimators=10)\n",
    "    task_type = \"Classification\"\n",
    "else:\n",
    "    model = ExtraTreesRegressor(n_jobs=-1, random_state=42, n_estimators=10)\n",
    "    task_type = \"Regression\"\n",
    "\n",
    "# ✅ Train the model using Dask's parallel backend\n",
    "with parallel_backend(\"dask\"):\n",
    "    model.fit(X_train_np, y_train_np)\n",
    "\n",
    "print(f\"✅ {task_type} Model Training Complete!\")\n"
   ]
  },
  {
   "cell_type": "code",
   "execution_count": null,
   "id": "a3d9e767-319e-4755-9620-f0b7f8644c97",
   "metadata": {
    "tags": []
   },
   "outputs": [
    {
     "name": "stderr",
     "output_type": "stream",
     "text": [
      "2025-02-10 07:42:49,930\tINFO worker.py:1832 -- Started a local Ray instance. View the dashboard at \u001b[1m\u001b[32m127.0.0.1:8265 \u001b[39m\u001b[22m\n"
     ]
    },
    {
     "name": "stdout",
     "output_type": "stream",
     "text": [
      "✅ Data Sampled\n"
     ]
    }
   ],
   "source": [
    "import dask.dataframe as dd\n",
    "import numpy as np\n",
    "import dask.array as da\n",
    "from dask_ml.preprocessing import StandardScaler\n",
    "from dask_ml.model_selection import train_test_split\n",
    "from sklearn.ensemble import ExtraTreesRegressor, ExtraTreesClassifier\n",
    "\n",
    "import ray\n",
    "import ray.data as rd\n",
    "from ray.util.joblib import register_ray  # Enables Ray parallelism in Scikit-learn\n",
    "from joblib import parallel_backend\n",
    "\n",
    "# ✅ Initialize Ray\n",
    "ray.init(num_cpus=8, ignore_reinit_error=True)\n",
    "register_ray()  # Register Ray with Joblib\n",
    "\n",
    "# ✅ Sample 10% of the data\n",
    "sampled_df = df.sample(frac=0.1, random_state=42)\n",
    "print(\"✅ Data Sampled\")\n",
    "\n",
    "# ✅ Separate features (X) and target (y)\n",
    "target_col = \"DEP_DELAY\"\n",
    "y = sampled_df[target_col]\n",
    "X = sampled_df.drop(columns=[target_col, \"FL_DATE\"])\n",
    "\n",
    "# ✅ Standardize numerical features using Dask\n",
    "scaler = StandardScaler()\n",
    "X_scaled = scaler.fit_transform(X)\n",
    "print(\"✅ Data Scaled\")\n",
    "\n",
    "# ✅ Train/Test Split (Dask Arrays)\n",
    "X_train, X_test, y_train, y_test = train_test_split(X_scaled, y, test_size=0.2, random_state=42)\n",
    "\n",
    "# ✅ Convert Dask Arrays to Ray DataFrames (Efficient Distributed Processing)\n",
    "def dask_to_ray(dask_array, batch_size=150000):\n",
    "    \"\"\"Convert a Dask array to a Ray Dataset in small chunks.\"\"\"\n",
    "    np_array = dask_array.to_dask_array(lengths=True)  # Ensure it's a Dask array\n",
    "    n_rows = np_array.shape[0]\n",
    "\n",
    "    results = []\n",
    "    for i in range(0, n_rows, batch_size):\n",
    "        results.append(np_array[i : i + batch_size].compute())  # Compute in chunks\n",
    "\n",
    "    return rd.from_numpy(np.vstack(results)) if results[0].ndim > 1 else rd.from_numpy(np.hstack(results))\n",
    "\n",
    "# ✅ Convert Dask Data to Ray DataFrames\n",
    "X_train_ray = dask_to_ray(X_train)\n",
    "X_test_ray = dask_to_ray(X_test)\n",
    "y_train_ray = dask_to_ray(y_train)\n",
    "y_test_ray = dask_to_ray(y_test)\n",
    "\n",
    "print(\"✅ Data Converted to Ray DataFrames Successfully!\")\n",
    "\n",
    "# ✅ Store Data in Ray's Object Store for Faster Access\n",
    "X_train_ref = ray.put(X_train_ray)\n",
    "X_test_ref = ray.put(X_test_ray)\n",
    "y_train_ref = ray.put(y_train_ray)\n",
    "y_test_ref = ray.put(y_test_ray)\n",
    "\n",
    "# ✅ Determine Task Type and Choose Model\n",
    "if len(np.unique(y_train_ray.to_pandas())) <= 10:\n",
    "    model = ExtraTreesClassifier(n_jobs=-1, random_state=42, n_estimators=10)\n",
    "    task_type = \"Classification\"\n",
    "else:\n",
    "    model = ExtraTreesRegressor(n_jobs=-1, random_state=42, n_estimators=10)\n",
    "    task_type = \"Regression\"\n",
    "\n",
    "# ✅ Train Model Using Ray Parallelism\n",
    "with parallel_backend(\"ray\"):  # Use Ray for distributed training\n",
    "    model.fit(ray.get(X_train_ref).to_pandas(), ray.get(y_train_ref).to_pandas())\n",
    "\n",
    "print(f\"✅ {task_type} Model Training Complete with Ray!\")\n",
    "\n",
    "# ✅ OPTIONAL: Save the trained model to Ray's Object Store\n",
    "model_ref = ray.put(model)\n"
   ]
  },
  {
   "cell_type": "code",
   "execution_count": 15,
   "id": "159b6b13-4d4d-44f5-90ed-a0de9781d6f3",
   "metadata": {
    "tags": []
   },
   "outputs": [
    {
     "name": "stdout",
     "output_type": "stream",
     "text": [
      "                Feature  Importance\n",
      "0             ARR_DELAY        0.72\n",
      "1         CARRIER_DELAY        0.15\n",
      "2   LATE_AIRCRAFT_DELAY        0.08\n",
      "3             NAS_DELAY        0.02\n",
      "4              TAXI_OUT        0.01\n",
      "5               TAXI_IN        0.00\n",
      "6              DISTANCE        0.00\n",
      "7         WEATHER_DELAY        0.00\n",
      "8              AIR_TIME        0.00\n",
      "9              DEP_TIME        0.00\n",
      "10               ORIGIN        0.00\n",
      "11           WHEELS_OFF        0.00\n",
      "12    OP_CARRIER_FL_NUM        0.00\n",
      "13    OP_UNIQUE_CARRIER        0.00\n",
      "14                 DEST        0.00\n",
      "15            WHEELS_ON        0.00\n",
      "16             ARR_TIME        0.00\n",
      "17       SECURITY_DELAY        0.00\n",
      "['ARR_DELAY', 'CARRIER_DELAY', 'LATE_AIRCRAFT_DELAY', 'NAS_DELAY', 'TAXI_OUT', 'TAXI_IN', 'DISTANCE', 'WEATHER_DELAY', 'AIR_TIME', 'DEP_TIME', 'ORIGIN', 'WHEELS_OFF', 'OP_CARRIER_FL_NUM', 'OP_UNIQUE_CARRIER', 'DEST', 'WHEELS_ON']\n"
     ]
    }
   ],
   "source": [
    "import math\n",
    "import dask.dataframe as dd\n",
    "import pandas as pd\n",
    "\n",
    "def select_top_features_dask(model, X, min_features=5):\n",
    "    \"\"\"\n",
    "    Selects top features based on feature importance from a given model.\n",
    "    \n",
    "    Parameters:\n",
    "    - model: A trained model with a feature_importances_ attribute.\n",
    "    - X: A Dask or pandas DataFrame of input features.\n",
    "    - min_features: Minimum number of features to always select.\n",
    "\n",
    "    Returns:\n",
    "    - List of selected feature names.\n",
    "    \"\"\"\n",
    "    # Check if the model supports feature importances\n",
    "    if not hasattr(model, \"feature_importances_\"):\n",
    "        raise ValueError(\"Model does not support feature importances.\")\n",
    "    \n",
    "    # Ensure X is a Dask DataFrame\n",
    "    if not isinstance(X, (dd.DataFrame, pd.DataFrame)):\n",
    "        raise ValueError(\"X must be a pandas or Dask DataFrame.\")\n",
    "\n",
    "    # Convert to Dask if it is a pandas DataFrame for consistency\n",
    "    if isinstance(X, pd.DataFrame):\n",
    "        X = dd.from_pandas(X, npartitions=1)\n",
    "\n",
    "    # Get feature importances\n",
    "    feature_importances = model.feature_importances_\n",
    "\n",
    "    # Create a DataFrame with features and their importance scores\n",
    "    importance_df = pd.DataFrame({\n",
    "        'Feature': X.columns,\n",
    "        'Importance': feature_importances\n",
    "    }).sort_values(by='Importance', ascending=False).reset_index(drop=True)\n",
    "    \n",
    "    # Debugging statement\n",
    "    print(importance_df)  # This will show the importance DataFrame\n",
    "\n",
    "    total_features = len(importance_df)\n",
    "\n",
    "    # Dynamically calculate the number of features to select\n",
    "    additional_features = math.ceil(0.6 * total_features)\n",
    "    selected_features_count = min(total_features, max(min_features, additional_features + min_features))\n",
    "\n",
    "    # Select top features based on importance\n",
    "    selected_features_df = importance_df.head(selected_features_count)\n",
    "    selected_features = selected_features_df['Feature'].tolist()\n",
    "    \n",
    "    return selected_features\n",
    "\n",
    "# Example usage (replace model and X appropriately):\n",
    "print(select_top_features_dask(model, X))\n"
   ]
  },
  {
   "cell_type": "code",
   "execution_count": 15,
   "id": "f1a53bcf-dbcd-41e9-b6a5-e1116800b833",
   "metadata": {
    "tags": []
   },
   "outputs": [
    {
     "name": "stderr",
     "output_type": "stream",
     "text": [
      "2025-02-10 06:02:30,862\tINFO worker.py:1832 -- Started a local Ray instance. View the dashboard at \u001b[1m\u001b[32m127.0.0.1:8265 \u001b[39m\u001b[22m\n"
     ]
    },
    {
     "data": {
      "application/vnd.jupyter.widget-view+json": {
       "model_id": "d20a700078564f46a5c50680a568d34d",
       "version_major": 2,
       "version_minor": 0
      },
      "text/html": [
       "<div class=\"lm-Widget p-Widget lm-Panel p-Panel jp-Cell-outputWrapper\">\n",
       "    <div style=\"margin-left: 50px;display: flex;flex-direction: row;align-items: center\">\n",
       "        <div class=\"jp-RenderedHTMLCommon\" style=\"display: flex; flex-direction: row;\">\n",
       "  <svg viewBox=\"0 0 567 224\" fill=\"none\" xmlns=\"http://www.w3.org/2000/svg\" style=\"height: 3em;\">\n",
       "    <g clip-path=\"url(#clip0_4338_178347)\">\n",
       "        <path d=\"M341.29 165.561H355.29L330.13 129.051C345.63 123.991 354.21 112.051 354.21 94.2307C354.21 71.3707 338.72 58.1807 311.88 58.1807H271V165.561H283.27V131.661H311.8C314.25 131.661 316.71 131.501 319.01 131.351L341.25 165.561H341.29ZM283.29 119.851V70.0007H311.82C331.3 70.0007 342.34 78.2907 342.34 94.5507C342.34 111.271 331.34 119.861 311.82 119.861L283.29 119.851ZM451.4 138.411L463.4 165.561H476.74L428.74 58.1807H416L367.83 165.561H380.83L392.83 138.411H451.4ZM446.19 126.601H398L422 72.1407L446.24 126.601H446.19ZM526.11 128.741L566.91 58.1807H554.35L519.99 114.181L485.17 58.1807H472.44L514.01 129.181V165.541H526.13V128.741H526.11Z\" fill=\"var(--jp-ui-font-color0)\"/>\n",
       "        <path d=\"M82.35 104.44C84.0187 97.8827 87.8248 92.0678 93.1671 87.9146C98.5094 83.7614 105.083 81.5067 111.85 81.5067C118.617 81.5067 125.191 83.7614 130.533 87.9146C135.875 92.0678 139.681 97.8827 141.35 104.44H163.75C164.476 101.562 165.622 98.8057 167.15 96.2605L127.45 56.5605C121.071 60.3522 113.526 61.6823 106.235 60.3005C98.9443 58.9187 92.4094 54.9203 87.8602 49.0574C83.3109 43.1946 81.0609 35.8714 81.5332 28.4656C82.0056 21.0599 85.1679 14.0819 90.4252 8.8446C95.6824 3.60726 102.672 0.471508 110.08 0.0272655C117.487 -0.416977 124.802 1.86091 130.647 6.4324C136.493 11.0039 140.467 17.5539 141.821 24.8501C143.175 32.1463 141.816 39.6859 138 46.0505L177.69 85.7505C182.31 82.9877 187.58 81.4995 192.962 81.4375C198.345 81.3755 203.648 82.742 208.33 85.3976C213.012 88.0532 216.907 91.9029 219.616 96.5544C222.326 101.206 223.753 106.492 223.753 111.875C223.753 117.258 222.326 122.545 219.616 127.197C216.907 131.848 213.012 135.698 208.33 138.353C203.648 141.009 198.345 142.375 192.962 142.313C187.58 142.251 182.31 140.763 177.69 138L138 177.7C141.808 184.071 143.155 191.614 141.79 198.91C140.424 206.205 136.44 212.75 130.585 217.313C124.731 221.875 117.412 224.141 110.004 223.683C102.596 223.226 95.6103 220.077 90.3621 214.828C85.1139 209.58 81.9647 202.595 81.5072 195.187C81.0497 187.779 83.3154 180.459 87.878 174.605C92.4405 168.751 98.9853 164.766 106.281 163.401C113.576 162.035 121.119 163.383 127.49 167.19L167.19 127.49C165.664 124.941 164.518 122.182 163.79 119.3H141.39C139.721 125.858 135.915 131.673 130.573 135.826C125.231 139.98 118.657 142.234 111.89 142.234C105.123 142.234 98.5494 139.98 93.2071 135.826C87.8648 131.673 84.0587 125.858 82.39 119.3H60C58.1878 126.495 53.8086 132.78 47.6863 136.971C41.5641 141.163 34.1211 142.972 26.7579 142.059C19.3947 141.146 12.6191 137.574 7.70605 132.014C2.79302 126.454 0.0813599 119.29 0.0813599 111.87C0.0813599 104.451 2.79302 97.2871 7.70605 91.7272C12.6191 86.1673 19.3947 82.5947 26.7579 81.6817C34.1211 80.7686 41.5641 82.5781 47.6863 86.7696C53.8086 90.9611 58.1878 97.2456 60 104.44H82.35ZM100.86 204.32C103.407 206.868 106.759 208.453 110.345 208.806C113.93 209.159 117.527 208.258 120.522 206.256C123.517 204.254 125.725 201.276 126.771 197.828C127.816 194.38 127.633 190.677 126.253 187.349C124.874 184.021 122.383 181.274 119.205 179.577C116.027 177.88 112.359 177.337 108.826 178.042C105.293 178.746 102.113 180.654 99.8291 183.44C97.5451 186.226 96.2979 189.718 96.3 193.32C96.2985 195.364 96.7006 197.388 97.4831 199.275C98.2656 201.163 99.4132 202.877 100.86 204.32ZM204.32 122.88C206.868 120.333 208.453 116.981 208.806 113.396C209.159 109.811 208.258 106.214 206.256 103.219C204.254 100.223 201.275 98.0151 197.827 96.97C194.38 95.9249 190.676 96.1077 187.348 97.4873C184.02 98.8669 181.274 101.358 179.577 104.536C177.879 107.714 177.337 111.382 178.041 114.915C178.746 118.448 180.653 121.627 183.439 123.911C186.226 126.195 189.717 127.443 193.32 127.44C195.364 127.443 197.388 127.042 199.275 126.259C201.163 125.476 202.878 124.328 204.32 122.88ZM122.88 19.4205C120.333 16.8729 116.981 15.2876 113.395 14.9347C109.81 14.5817 106.213 15.483 103.218 17.4849C100.223 19.4868 98.0146 22.4654 96.9696 25.9131C95.9245 29.3608 96.1073 33.0642 97.4869 36.3922C98.8665 39.7202 101.358 42.4668 104.535 44.1639C107.713 45.861 111.381 46.4036 114.914 45.6992C118.447 44.9949 121.627 43.0871 123.911 40.301C126.195 37.515 127.442 34.0231 127.44 30.4205C127.44 28.3772 127.038 26.3539 126.255 24.4664C125.473 22.5788 124.326 20.8642 122.88 19.4205ZM19.42 100.86C16.8725 103.408 15.2872 106.76 14.9342 110.345C14.5813 113.93 15.4826 117.527 17.4844 120.522C19.4863 123.518 22.4649 125.726 25.9127 126.771C29.3604 127.816 33.0638 127.633 36.3918 126.254C39.7198 124.874 42.4664 122.383 44.1635 119.205C45.8606 116.027 46.4032 112.359 45.6988 108.826C44.9944 105.293 43.0866 102.114 40.3006 99.8296C37.5145 97.5455 34.0227 96.2983 30.42 96.3005C26.2938 96.3018 22.337 97.9421 19.42 100.86ZM100.86 100.86C98.3125 103.408 96.7272 106.76 96.3742 110.345C96.0213 113.93 96.9226 117.527 98.9244 120.522C100.926 123.518 103.905 125.726 107.353 126.771C110.8 127.816 114.504 127.633 117.832 126.254C121.16 124.874 123.906 122.383 125.604 119.205C127.301 116.027 127.843 112.359 127.139 108.826C126.434 105.293 124.527 102.114 121.741 99.8296C118.955 97.5455 115.463 96.2983 111.86 96.3005C109.817 96.299 107.793 96.701 105.905 97.4835C104.018 98.2661 102.303 99.4136 100.86 100.86Z\" fill=\"#00AEEF\"/>\n",
       "    </g>\n",
       "    <defs>\n",
       "        <clipPath id=\"clip0_4338_178347\">\n",
       "            <rect width=\"566.93\" height=\"223.75\" fill=\"white\"/>\n",
       "        </clipPath>\n",
       "    </defs>\n",
       "  </svg>\n",
       "</div>\n",
       "\n",
       "        <table class=\"jp-RenderedHTMLCommon\" style=\"border-collapse: collapse;color: var(--jp-ui-font-color1);font-size: var(--jp-ui-font-size1);\">\n",
       "    <tr>\n",
       "        <td style=\"text-align: left\"><b>Python version:</b></td>\n",
       "        <td style=\"text-align: left\"><b>3.10.16</b></td>\n",
       "    </tr>\n",
       "    <tr>\n",
       "        <td style=\"text-align: left\"><b>Ray version:</b></td>\n",
       "        <td style=\"text-align: left\"><b>2.42.0</b></td>\n",
       "    </tr>\n",
       "    <tr>\n",
       "    <td style=\"text-align: left\"><b>Dashboard:</b></td>\n",
       "    <td style=\"text-align: left\"><b><a href=\"http://127.0.0.1:8265\" target=\"_blank\">http://127.0.0.1:8265</a></b></td>\n",
       "</tr>\n",
       "\n",
       "</table>\n",
       "\n",
       "    </div>\n",
       "</div>\n"
      ],
      "text/plain": [
       "RayContext(dashboard_url='127.0.0.1:8265', python_version='3.10.16', ray_version='2.42.0', ray_commit='637116a090c052d061af5ba3bef8a467c8c3fc25')"
      ]
     },
     "execution_count": 15,
     "metadata": {},
     "output_type": "execute_result"
    }
   ],
   "source": [
    "import ray\n",
    "from ray.util.multiprocessing import Pool\n",
    "from sklearn.preprocessing import StandardScaler\n",
    "from sklearn.model_selection import train_test_split\n",
    "from sklearn.linear_model import LogisticRegression, RidgeClassifier, LinearRegression, Lasso, Ridge\n",
    "from sklearn.tree import DecisionTreeClassifier, DecisionTreeRegressor, ExtraTreeClassifier, ExtraTreeRegressor\n",
    "from sklearn.ensemble import RandomForestClassifier, RandomForestRegressor, ExtraTreesClassifier, ExtraTreesRegressor, AdaBoostRegressor\n",
    "from sklearn.neighbors import KNeighborsClassifier, RadiusNeighborsClassifier\n",
    "from xgboost import XGBRegressor\n",
    "import pandas as pd\n",
    "\n",
    "ray.init(num_cpus=8,ignore_reinit_error=True)"
   ]
  },
  {
   "cell_type": "code",
   "execution_count": null,
   "id": "027b3a5d-fdb8-4562-b943-239a05d2d7fb",
   "metadata": {
    "tags": []
   },
   "outputs": [],
   "source": [
    "@ray.remote\n",
    "def train_and_evaluate_model(model_name, model, X_train, X_test, y_train, y_test):\n",
    "    \"\"\"Trains and evaluates a model, selecting the best features if applicable.\"\"\"\n",
    "    model.fit(X_train, y_train)\n",
    "    selected_features = select_top_features(model, X_train)\n",
    "    X_train_selected = X_train[selected_features]\n",
    "    X_test_selected = X_test[selected_features]\n",
    "    \n",
    "    model.fit(X_train_selected, y_train)\n",
    "    score = model.score(X_test_selected, y_test)\n",
    "    return model_name, score, selected_features\n",
    "\n",
    "def select_and_apply_model(X, y):\n",
    "    \"\"\"Selects the best model using Ray for parallel execution.\"\"\"\n",
    "    # Normalize features\n",
    "    scaler = StandardScaler()\n",
    "    X_normalized = pd.DataFrame(scaler.fit_transform(X), columns=X.columns)\n",
    "    \n",
    "    # Identify task type\n",
    "    task_type = \"regression\" if pd.api.types.is_numeric_dtype(y) else \"classification\"\n",
    "    \n",
    "    # Define models\n",
    "    models = {\n",
    "        \"regression\": {\n",
    "            \"LinearRegression\": LinearRegression(),\n",
    "            \"Lasso\": Lasso(alpha=0.1, random_state=42),\n",
    "            \"Ridge\": Ridge(alpha=1.0, random_state=42),\n",
    "            \"DecisionTreeRegressor\": DecisionTreeRegressor(),\n",
    "            \"ExtraTreeRegressor\": ExtraTreeRegressor(),\n",
    "            \"RandomForestRegressor\": RandomForestRegressor(n_estimators=100, random_state=42),\n",
    "            \"ExtraTreesRegressor\": ExtraTreesRegressor(n_estimators=100, random_state=42),\n",
    "            \"AdaBoostRegressor\": AdaBoostRegressor(n_estimators=50, random_state=42),\n",
    "            \"XGBRegressor\": XGBRegressor(n_estimators=100, random_state=42)\n",
    "        },\n",
    "        \"classification\": {\n",
    "            \"LogisticRegression\": LogisticRegression(max_iter=200, random_state=42),\n",
    "            \"RidgeClassifier\": RidgeClassifier(),\n",
    "            \"DecisionTreeClassifier\": DecisionTreeClassifier(),\n",
    "            \"ExtraTreeClassifier\": ExtraTreeClassifier(),\n",
    "            \"KNeighborsClassifier\": KNeighborsClassifier(),\n",
    "            \"RadiusNeighborsClassifier\": RadiusNeighborsClassifier(),\n",
    "            \"RandomForestClassifier\": RandomForestClassifier(n_estimators=100, random_state=42),\n",
    "            \"ExtraTreesClassifier\": ExtraTreesClassifier(n_estimators=100, random_state=42)\n",
    "        }\n",
    "    }\n",
    "    \n",
    "    # Split data\n",
    "    X_train, X_test, y_train, y_test = train_test_split(X_normalized, y, test_size=0.2, random_state=42)\n",
    "    \n",
    "    # Train models in parallel\n",
    "    tasks = [train_and_evaluate_model.remote(name, model, X_train, X_test, y_train, y_test)\n",
    "             for name, model in models[task_type].items()]\n",
    "    results = ray.get(tasks)\n",
    "    \n",
    "    # Select the best model\n",
    "    best_model_name, best_model_score, best_features = max(results, key=lambda x: x[1])\n",
    "    best_model = models[task_type][best_model_name]\n",
    "    \n",
    "    print(f\"Best {task_type} model: {best_model_name} with score: {best_model_score:.4f}\")\n",
    "    print(f\"Selected Features: {best_features}\")\n",
    "    return best_model, best_model_name, best_model_score, best_features\n",
    "\n",
    "# Example usage\n",
    "y = df[\"DEP_DELAY\"]\n",
    "X = df.drop(columns=[\"DEP_DELAY\", \"FL_DATE\"])\n",
    "best_model, model_name, model_score, top_features = select_and_apply_model(X, y)"
   ]
  },
  {
   "cell_type": "code",
   "execution_count": null,
   "id": "17b9be48-8d1d-4b7f-a124-a038c10660b7",
   "metadata": {},
   "outputs": [],
   "source": []
  }
 ],
 "metadata": {
  "environment": {
   "kernel": "conda-base-py",
   "name": "workbench-notebooks.m127",
   "type": "gcloud",
   "uri": "us-docker.pkg.dev/deeplearning-platform-release/gcr.io/workbench-notebooks:m127"
  },
  "kernelspec": {
   "display_name": "Python 3 (ipykernel) (Local)",
   "language": "python",
   "name": "conda-base-py"
  },
  "language_info": {
   "codemirror_mode": {
    "name": "ipython",
    "version": 3
   },
   "file_extension": ".py",
   "mimetype": "text/x-python",
   "name": "python",
   "nbconvert_exporter": "python",
   "pygments_lexer": "ipython3",
   "version": "3.10.16"
  }
 },
 "nbformat": 4,
 "nbformat_minor": 5
}
